{
  "nbformat": 4,
  "nbformat_minor": 0,
  "metadata": {
    "colab": {
      "name": "Mushroom Analysis.ipynb",
      "provenance": [],
      "collapsed_sections": [],
      "authorship_tag": "ABX9TyPCTNw5Gdw2+wfdc8ck5tTx",
      "include_colab_link": true
    },
    "kernelspec": {
      "name": "python3",
      "display_name": "Python 3"
    },
    "language_info": {
      "name": "python"
    }
  },
  "cells": [
    {
      "cell_type": "markdown",
      "metadata": {
        "id": "view-in-github",
        "colab_type": "text"
      },
      "source": [
        "<a href=\"https://colab.research.google.com/github/Gitprincesskerry/IS362/blob/main/Mushroom_Analysis.ipynb\" target=\"_parent\"><img src=\"https://colab.research.google.com/assets/colab-badge.svg\" alt=\"Open In Colab\"/></a>"
      ]
    },
    {
      "cell_type": "markdown",
      "metadata": {
        "id": "FgSAtEQr20PA"
      },
      "source": [
        "#<u><b><center>Mushroom Dataset Analysis</b></center></u>"
      ]
    },
    {
      "cell_type": "markdown",
      "metadata": {
        "id": "HDbNpyDp3EZs"
      },
      "source": [
        "Your assignment is to use the Dataset From (https://archive.ics.uci.edu/ml/datasets/Mushroom) to do the following:\n",
        "\n",
        "- First study the dataset and the associated description of the data (i.e. “data dictionary”). You may need to look around a bit, but it’s there!\n",
        "- Create a pandas DataFrame with a subset of the columns in the dataset. You should include the column that indicates edible or poisonous, the column that includes odor, and at least one other column of your choosing.\n",
        "- Add meaningful names for each column.\n",
        "- Replace the codes used in the data with numeric values—for example, in the first “target” column, “e” might\n",
        "become 0 and “p” might become 1. This is because your downstream processing in Project 4 using\n",
        "scikit-learn requires that values be stored as numerics.\n",
        "- Perform exploratory data analysis: show the distribution of data for each of the columns you selected, and\n",
        "show scatterplots for edible/poisonous vs. odor as well as the other column that you selected.\n",
        "- Include some text describing your preliminary conclusions about whether either of the other columns\n",
        "could be helpful in predicting if a specific mushroom is edible or poisonous."
      ]
    },
    {
      "cell_type": "code",
      "metadata": {
        "id": "Nyu37YRv2T-8"
      },
      "source": [
        "import pandas as pd\n",
        "import numpy as np\n",
        "from matplotlib import pyplot as plt\n",
        "import seaborn as sns\n",
        "%matplotlib inline"
      ],
      "execution_count": 1,
      "outputs": []
    },
    {
      "cell_type": "code",
      "metadata": {
        "colab": {
          "base_uri": "https://localhost:8080/"
        },
        "id": "UW3L_-riJtfp",
        "outputId": "4e27d11d-b96c-468c-cfad-e9143d12d3ce"
      },
      "source": [
        "datadict = open('agaricus-lepiota.names', 'r')\n",
        "print(datadict.read())"
      ],
      "execution_count": 2,
      "outputs": [
        {
          "output_type": "stream",
          "text": [
            "1. Title: Mushroom Database\n",
            "\n",
            "2. Sources: \n",
            "    (a) Mushroom records drawn from The Audubon Society Field Guide to North\n",
            "        American Mushrooms (1981). G. H. Lincoff (Pres.), New York: Alfred\n",
            "        A. Knopf\n",
            "    (b) Donor: Jeff Schlimmer (Jeffrey.Schlimmer@a.gp.cs.cmu.edu)\n",
            "    (c) Date: 27 April 1987\n",
            "\n",
            "3. Past Usage:\n",
            "    1. Schlimmer,J.S. (1987). Concept Acquisition Through Representational\n",
            "       Adjustment (Technical Report 87-19).  Doctoral disseration, Department\n",
            "       of Information and Computer Science, University of California, Irvine.\n",
            "       --- STAGGER: asymptoted to 95% classification accuracy after reviewing\n",
            "           1000 instances.\n",
            "    2. Iba,W., Wogulis,J., & Langley,P. (1988).  Trading off Simplicity\n",
            "       and Coverage in Incremental Concept Learning. In Proceedings of \n",
            "       the 5th International Conference on Machine Learning, 73-79.\n",
            "       Ann Arbor, Michigan: Morgan Kaufmann.  \n",
            "       -- approximately the same results with their HILLARY algorithm    \n",
            "    3. In the following references a set of rules (given below) were\n",
            "\tlearned for this data set which may serve as a point of\n",
            "\tcomparison for other researchers.\n",
            "\n",
            "\tDuch W, Adamczak R, Grabczewski K (1996) Extraction of logical rules\n",
            "\tfrom training data using backpropagation networks, in: Proc. of the\n",
            "\tThe 1st Online Workshop on Soft Computing, 19-30.Aug.1996, pp. 25-30,\n",
            "\tavailable on-line at: http://www.bioele.nuee.nagoya-u.ac.jp/wsc1/\n",
            "\n",
            "\tDuch W, Adamczak R, Grabczewski K, Ishikawa M, Ueda H, Extraction of\n",
            "\tcrisp logical rules using constrained backpropagation networks -\n",
            "\tcomparison of two new approaches, in: Proc. of the European Symposium\n",
            "\ton Artificial Neural Networks (ESANN'97), Bruge, Belgium 16-18.4.1997,\n",
            "\tpp. xx-xx\n",
            "\n",
            "\tWlodzislaw Duch, Department of Computer Methods, Nicholas Copernicus\n",
            "\tUniversity, 87-100 Torun, Grudziadzka 5, Poland\n",
            "\te-mail: duch@phys.uni.torun.pl\n",
            "\tWWW     http://www.phys.uni.torun.pl/kmk/\n",
            "\t\n",
            "\tDate: Mon, 17 Feb 1997 13:47:40 +0100\n",
            "\tFrom: Wlodzislaw Duch <duch@phys.uni.torun.pl>\n",
            "\tOrganization: Dept. of Computer Methods, UMK\n",
            "\n",
            "\tI have attached a file containing logical rules for mushrooms.\n",
            "\tIt should be helpful for other people since only in the last year I\n",
            "\thave seen about 10 papers analyzing this dataset and obtaining quite\n",
            "\tcomplex rules. We will try to contribute other results later.\n",
            "\n",
            "\tWith best regards, Wlodek Duch\n",
            "\t________________________________________________________________\n",
            "\n",
            "\tLogical rules for the mushroom data sets.\n",
            "\n",
            "\tLogical rules given below seem to be the simplest possible for the\n",
            "\tmushroom dataset and therefore should be treated as benchmark results.\n",
            "\n",
            "\tDisjunctive rules for poisonous mushrooms, from most general\n",
            "\tto most specific:\n",
            "\n",
            "\tP_1) odor=NOT(almond.OR.anise.OR.none)\n",
            "\t     120 poisonous cases missed, 98.52% accuracy\n",
            "\n",
            "\tP_2) spore-print-color=green\n",
            "\t     48 cases missed, 99.41% accuracy\n",
            "         \n",
            "\tP_3) odor=none.AND.stalk-surface-below-ring=scaly.AND.\n",
            "\t          (stalk-color-above-ring=NOT.brown) \n",
            "\t     8 cases missed, 99.90% accuracy\n",
            "         \n",
            "\tP_4) habitat=leaves.AND.cap-color=white\n",
            "\t         100% accuracy     \n",
            "\n",
            "\tRule P_4) may also be\n",
            "\n",
            "\tP_4') population=clustered.AND.cap_color=white\n",
            "\n",
            "\tThese rule involve 6 attributes (out of 22). Rules for edible\n",
            "\tmushrooms are obtained as negation of the rules given above, for\n",
            "\texample the rule:\n",
            "\n",
            "\todor=(almond.OR.anise.OR.none).AND.spore-print-color=NOT.green\n",
            "\n",
            "\tgives 48 errors, or 99.41% accuracy on the whole dataset.\n",
            "\n",
            "\tSeveral slightly more complex variations on these rules exist,\n",
            "\tinvolving other attributes, such as gill_size, gill_spacing,\n",
            "\tstalk_surface_above_ring, but the rules given above are the simplest\n",
            "\twe have found.\n",
            "\n",
            "\n",
            "4. Relevant Information:\n",
            "    This data set includes descriptions of hypothetical samples\n",
            "    corresponding to 23 species of gilled mushrooms in the Agaricus and\n",
            "    Lepiota Family (pp. 500-525).  Each species is identified as\n",
            "    definitely edible, definitely poisonous, or of unknown edibility and\n",
            "    not recommended.  This latter class was combined with the poisonous\n",
            "    one.  The Guide clearly states that there is no simple rule for\n",
            "    determining the edibility of a mushroom; no rule like ``leaflets\n",
            "    three, let it be'' for Poisonous Oak and Ivy.\n",
            "\n",
            "5. Number of Instances: 8124\n",
            "\n",
            "6. Number of Attributes: 22 (all nominally valued)\n",
            "\n",
            "7. Attribute Information: (classes: edible=e, poisonous=p)\n",
            "     1. cap-shape:                bell=b,conical=c,convex=x,flat=f,\n",
            "                                  knobbed=k,sunken=s\n",
            "     2. cap-surface:              fibrous=f,grooves=g,scaly=y,smooth=s\n",
            "     3. cap-color:                brown=n,buff=b,cinnamon=c,gray=g,green=r,\n",
            "                                  pink=p,purple=u,red=e,white=w,yellow=y\n",
            "     4. bruises?:                 bruises=t,no=f\n",
            "     5. odor:                     almond=a,anise=l,creosote=c,fishy=y,foul=f,\n",
            "                                  musty=m,none=n,pungent=p,spicy=s\n",
            "     6. gill-attachment:          attached=a,descending=d,free=f,notched=n\n",
            "     7. gill-spacing:             close=c,crowded=w,distant=d\n",
            "     8. gill-size:                broad=b,narrow=n\n",
            "     9. gill-color:               black=k,brown=n,buff=b,chocolate=h,gray=g,\n",
            "                                  green=r,orange=o,pink=p,purple=u,red=e,\n",
            "                                  white=w,yellow=y\n",
            "    10. stalk-shape:              enlarging=e,tapering=t\n",
            "    11. stalk-root:               bulbous=b,club=c,cup=u,equal=e,\n",
            "                                  rhizomorphs=z,rooted=r,missing=?\n",
            "    12. stalk-surface-above-ring: fibrous=f,scaly=y,silky=k,smooth=s\n",
            "    13. stalk-surface-below-ring: fibrous=f,scaly=y,silky=k,smooth=s\n",
            "    14. stalk-color-above-ring:   brown=n,buff=b,cinnamon=c,gray=g,orange=o,\n",
            "                                  pink=p,red=e,white=w,yellow=y\n",
            "    15. stalk-color-below-ring:   brown=n,buff=b,cinnamon=c,gray=g,orange=o,\n",
            "                                  pink=p,red=e,white=w,yellow=y\n",
            "    16. veil-type:                partial=p,universal=u\n",
            "    17. veil-color:               brown=n,orange=o,white=w,yellow=y\n",
            "    18. ring-number:              none=n,one=o,two=t\n",
            "    19. ring-type:                cobwebby=c,evanescent=e,flaring=f,large=l,\n",
            "                                  none=n,pendant=p,sheathing=s,zone=z\n",
            "    20. spore-print-color:        black=k,brown=n,buff=b,chocolate=h,green=r,\n",
            "                                  orange=o,purple=u,white=w,yellow=y\n",
            "    21. population:               abundant=a,clustered=c,numerous=n,\n",
            "                                  scattered=s,several=v,solitary=y\n",
            "    22. habitat:                  grasses=g,leaves=l,meadows=m,paths=p,\n",
            "                                  urban=u,waste=w,woods=d\n",
            "\n",
            "8. Missing Attribute Values: 2480 of them (denoted by \"?\"), all for\n",
            "   attribute #11.\n",
            "\n",
            "9. Class Distribution: \n",
            "    --    edible: 4208 (51.8%)\n",
            "    -- poisonous: 3916 (48.2%)\n",
            "    --     total: 8124 instances\n",
            "\n"
          ],
          "name": "stdout"
        }
      ]
    },
    {
      "cell_type": "code",
      "metadata": {
        "colab": {
          "base_uri": "https://localhost:8080/",
          "height": 235
        },
        "id": "9a5_cXTNO6qx",
        "outputId": "06606acb-b667-4ec9-a843-f0abf8bf1cdb"
      },
      "source": [
        "agarfile = open('agaricus-lepiota.data', 'r')\n",
        "#print(agarfile.read())\n",
        "\n",
        "mush_data = 'agaricus-lepiota.data'\n",
        "mush_data2 = pd.read_csv(mush_data, usecols=[0, 1, 5])\n",
        "mush_data2.head(6)"
      ],
      "execution_count": 3,
      "outputs": [
        {
          "output_type": "execute_result",
          "data": {
            "text/html": [
              "<div>\n",
              "<style scoped>\n",
              "    .dataframe tbody tr th:only-of-type {\n",
              "        vertical-align: middle;\n",
              "    }\n",
              "\n",
              "    .dataframe tbody tr th {\n",
              "        vertical-align: top;\n",
              "    }\n",
              "\n",
              "    .dataframe thead th {\n",
              "        text-align: right;\n",
              "    }\n",
              "</style>\n",
              "<table border=\"1\" class=\"dataframe\">\n",
              "  <thead>\n",
              "    <tr style=\"text-align: right;\">\n",
              "      <th></th>\n",
              "      <th>p</th>\n",
              "      <th>x</th>\n",
              "      <th>p.1</th>\n",
              "    </tr>\n",
              "  </thead>\n",
              "  <tbody>\n",
              "    <tr>\n",
              "      <th>0</th>\n",
              "      <td>e</td>\n",
              "      <td>x</td>\n",
              "      <td>a</td>\n",
              "    </tr>\n",
              "    <tr>\n",
              "      <th>1</th>\n",
              "      <td>e</td>\n",
              "      <td>b</td>\n",
              "      <td>l</td>\n",
              "    </tr>\n",
              "    <tr>\n",
              "      <th>2</th>\n",
              "      <td>p</td>\n",
              "      <td>x</td>\n",
              "      <td>p</td>\n",
              "    </tr>\n",
              "    <tr>\n",
              "      <th>3</th>\n",
              "      <td>e</td>\n",
              "      <td>x</td>\n",
              "      <td>n</td>\n",
              "    </tr>\n",
              "    <tr>\n",
              "      <th>4</th>\n",
              "      <td>e</td>\n",
              "      <td>x</td>\n",
              "      <td>a</td>\n",
              "    </tr>\n",
              "    <tr>\n",
              "      <th>5</th>\n",
              "      <td>e</td>\n",
              "      <td>b</td>\n",
              "      <td>a</td>\n",
              "    </tr>\n",
              "  </tbody>\n",
              "</table>\n",
              "</div>"
            ],
            "text/plain": [
              "   p  x p.1\n",
              "0  e  x   a\n",
              "1  e  b   l\n",
              "2  p  x   p\n",
              "3  e  x   n\n",
              "4  e  x   a\n",
              "5  e  b   a"
            ]
          },
          "metadata": {
            "tags": []
          },
          "execution_count": 3
        }
      ]
    },
    {
      "cell_type": "code",
      "metadata": {
        "colab": {
          "base_uri": "https://localhost:8080/",
          "height": 419
        },
        "id": "eAH3wlOnr9qM",
        "outputId": "990cef12-926c-43ec-b4bb-63c1689b22f7"
      },
      "source": [
        "rename_columns = ['Edible Status (E/P)', 'Cap Shape', 'Odor']\n",
        "mush_data2.columns = rename_columns\n",
        "\n",
        "num_data_replace = mush_data2.replace({'Edible Status (E/P)':{'e':0, 'p':1},\n",
        "                                       'Cap Shape':{'b':0, 'c':1,'x':2,'f':3,'k':4,'s':5},\n",
        "                                       'Odor':{'a':0, 'l':1,'c':2,'y':3,'f':4,'m':5,'n':6, 'p':7,'s':8}})\n",
        "num_data_replace"
      ],
      "execution_count": 4,
      "outputs": [
        {
          "output_type": "execute_result",
          "data": {
            "text/html": [
              "<div>\n",
              "<style scoped>\n",
              "    .dataframe tbody tr th:only-of-type {\n",
              "        vertical-align: middle;\n",
              "    }\n",
              "\n",
              "    .dataframe tbody tr th {\n",
              "        vertical-align: top;\n",
              "    }\n",
              "\n",
              "    .dataframe thead th {\n",
              "        text-align: right;\n",
              "    }\n",
              "</style>\n",
              "<table border=\"1\" class=\"dataframe\">\n",
              "  <thead>\n",
              "    <tr style=\"text-align: right;\">\n",
              "      <th></th>\n",
              "      <th>Edible Status (E/P)</th>\n",
              "      <th>Cap Shape</th>\n",
              "      <th>Odor</th>\n",
              "    </tr>\n",
              "  </thead>\n",
              "  <tbody>\n",
              "    <tr>\n",
              "      <th>0</th>\n",
              "      <td>0</td>\n",
              "      <td>2</td>\n",
              "      <td>0</td>\n",
              "    </tr>\n",
              "    <tr>\n",
              "      <th>1</th>\n",
              "      <td>0</td>\n",
              "      <td>0</td>\n",
              "      <td>1</td>\n",
              "    </tr>\n",
              "    <tr>\n",
              "      <th>2</th>\n",
              "      <td>1</td>\n",
              "      <td>2</td>\n",
              "      <td>7</td>\n",
              "    </tr>\n",
              "    <tr>\n",
              "      <th>3</th>\n",
              "      <td>0</td>\n",
              "      <td>2</td>\n",
              "      <td>6</td>\n",
              "    </tr>\n",
              "    <tr>\n",
              "      <th>4</th>\n",
              "      <td>0</td>\n",
              "      <td>2</td>\n",
              "      <td>0</td>\n",
              "    </tr>\n",
              "    <tr>\n",
              "      <th>...</th>\n",
              "      <td>...</td>\n",
              "      <td>...</td>\n",
              "      <td>...</td>\n",
              "    </tr>\n",
              "    <tr>\n",
              "      <th>8118</th>\n",
              "      <td>0</td>\n",
              "      <td>4</td>\n",
              "      <td>6</td>\n",
              "    </tr>\n",
              "    <tr>\n",
              "      <th>8119</th>\n",
              "      <td>0</td>\n",
              "      <td>2</td>\n",
              "      <td>6</td>\n",
              "    </tr>\n",
              "    <tr>\n",
              "      <th>8120</th>\n",
              "      <td>0</td>\n",
              "      <td>3</td>\n",
              "      <td>6</td>\n",
              "    </tr>\n",
              "    <tr>\n",
              "      <th>8121</th>\n",
              "      <td>1</td>\n",
              "      <td>4</td>\n",
              "      <td>3</td>\n",
              "    </tr>\n",
              "    <tr>\n",
              "      <th>8122</th>\n",
              "      <td>0</td>\n",
              "      <td>2</td>\n",
              "      <td>6</td>\n",
              "    </tr>\n",
              "  </tbody>\n",
              "</table>\n",
              "<p>8123 rows × 3 columns</p>\n",
              "</div>"
            ],
            "text/plain": [
              "      Edible Status (E/P)  Cap Shape  Odor\n",
              "0                       0          2     0\n",
              "1                       0          0     1\n",
              "2                       1          2     7\n",
              "3                       0          2     6\n",
              "4                       0          2     0\n",
              "...                   ...        ...   ...\n",
              "8118                    0          4     6\n",
              "8119                    0          2     6\n",
              "8120                    0          3     6\n",
              "8121                    1          4     3\n",
              "8122                    0          2     6\n",
              "\n",
              "[8123 rows x 3 columns]"
            ]
          },
          "metadata": {
            "tags": []
          },
          "execution_count": 4
        }
      ]
    },
    {
      "cell_type": "code",
      "metadata": {
        "colab": {
          "base_uri": "https://localhost:8080/"
        },
        "id": "mCSZNL-g4qbW",
        "outputId": "cd0c8bd1-9ff0-4cdc-f940-3693130b93b4"
      },
      "source": [
        "ep = num_data_replace['Edible Status (E/P)'].value_counts()\n",
        "ep\n",
        "\n",
        "cs = num_data_replace['Cap Shape'].value_counts()\n",
        "cs\n",
        "\n",
        "od = num_data_replace['Odor'].value_counts()\n",
        "od"
      ],
      "execution_count": 5,
      "outputs": [
        {
          "output_type": "execute_result",
          "data": {
            "text/plain": [
              "6    3528\n",
              "4    2160\n",
              "3     576\n",
              "8     576\n",
              "1     400\n",
              "0     400\n",
              "7     255\n",
              "2     192\n",
              "5      36\n",
              "Name: Odor, dtype: int64"
            ]
          },
          "metadata": {
            "tags": []
          },
          "execution_count": 5
        }
      ]
    }
  ]
}