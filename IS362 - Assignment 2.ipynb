{
 "cells": [
  {
   "cell_type": "markdown",
   "metadata": {},
   "source": [
    "**<center><u>Understanding the Zip Functionality in Python</u></center>**\n",
    "==================\n"
   ]
  },
  {
   "cell_type": "markdown",
   "metadata": {},
   "source": [
    "![Data Flair](https://d2h0cx97tjks2p.cloudfront.net/blogs/wp-content/uploads/sites/2/2018/08/Python-Zip-Function-01.jpg)"
   ]
  },
  {
   "cell_type": "markdown",
   "metadata": {},
   "source": [
    "Zip ( ) Defined:\n",
    "==================\n",
    "\n",
    ">**\"The zip() function returns a zip object, which is an iterator of tuples where the first item in each passed iterator is paired together, and then the second item in each passed iterator are paired together etc. If the passed iterators have different lengths, the iterator with the least items decides the length of the new iterator.\"** (https://www.w3schools.com/python/ref_func_zip.asp)"
   ]
  },
  {
   "cell_type": "markdown",
   "metadata": {},
   "source": [
    "**Let's look at a pratical example of why one would utilize the zip functionality in Python. Jane Doe wants to rate her top 5 five movies in order but has 2 separate list. We can create pairs for the rating and the corresponding movie. The ratings with be saved as a list in a variable calld rating_list. The movies with be saved as a list in a variable calld movie_rating.**"
   ]
  },
  {
   "cell_type": "code",
   "execution_count": 1,
   "metadata": {},
   "outputs": [],
   "source": [
    "rating_list = [1,2,3,4,5]\n",
    "movie_rating = ['Black Panther','Drumline','Love & Basketball', 'Poetic Justice', 'Get Out']"
   ]
  },
  {
   "cell_type": "markdown",
   "metadata": {},
   "source": [
    "**The following code will depict the pairs of Jane Doe's rating's of her top 5 favorite movies:**"
   ]
  },
  {
   "cell_type": "code",
   "execution_count": 2,
   "metadata": {},
   "outputs": [
    {
     "name": "stdout",
     "output_type": "stream",
     "text": [
      "(1, 'Black Panther')\n",
      "(2, 'Drumline')\n",
      "(3, 'Love & Basketball')\n",
      "(4, 'Poetic Justice')\n",
      "(5, 'Get Out')\n"
     ]
    }
   ],
   "source": [
    "for x in zip(rating_list, movie_rating):\n",
    "    print(x)"
   ]
  },
  {
   "cell_type": "markdown",
   "metadata": {},
   "source": [
    "**We can also save the items from both lists in a variable named y:**\n",
    "\n",
    "**(Note the contents in the parentheses of the zip are known as arguments; In this case there are 2 arguments. The first argument is rating_list, and the second is movie_rating.)**"
   ]
  },
  {
   "cell_type": "code",
   "execution_count": 3,
   "metadata": {},
   "outputs": [],
   "source": [
    "y = zip(rating_list,movie_rating)"
   ]
  },
  {
   "cell_type": "markdown",
   "metadata": {},
   "source": [
    "**<center>To view the items one would USUALLY utilize the following print statement:</center>**"
   ]
  },
  {
   "cell_type": "code",
   "execution_count": 4,
   "metadata": {},
   "outputs": [
    {
     "name": "stdout",
     "output_type": "stream",
     "text": [
      "<zip object at 0x7fadaa4735f0>\n"
     ]
    }
   ],
   "source": [
    "print(y)"
   ]
  },
  {
   "cell_type": "markdown",
   "metadata": {},
   "source": [
    "**<center>When the aforementioned print statment is run, it will look something like the following: \"<zip object at 0x7fcd965f17d0>\".</center>**"
   ]
  },
  {
   "cell_type": "markdown",
   "metadata": {},
   "source": [
    "**<center>The contents are stored as a zip object. To unpack the contents let's turn it into a tuple with the following code:</center>**"
   ]
  },
  {
   "cell_type": "code",
   "execution_count": 5,
   "metadata": {},
   "outputs": [
    {
     "name": "stdout",
     "output_type": "stream",
     "text": [
      "((1, 'Black Panther'), (2, 'Drumline'), (3, 'Love & Basketball'), (4, 'Poetic Justice'), (5, 'Get Out'))\n"
     ]
    }
   ],
   "source": [
    "print(tuple(y))"
   ]
  },
  {
   "cell_type": "markdown",
   "metadata": {},
   "source": [
    "**<center>Let's say you have a few lists that doesn't have the same length. When running the zip function, the output will stop at the shortest length.</center>** \n",
    "\n",
    "**<center>Let's look at Jane Doe's favorite fruit list by running the following code:</center>**"
   ]
  },
  {
   "cell_type": "code",
   "execution_count": 6,
   "metadata": {},
   "outputs": [
    {
     "name": "stdout",
     "output_type": "stream",
     "text": [
      "(1, 'apple')\n",
      "(2, 'banana')\n",
      "(3, 'cherry')\n"
     ]
    }
   ],
   "source": [
    "fruit_rating_list = [1,2,3]\n",
    "favorite_fruits = ['apple','banana','cherry', 'mango']\n",
    "\n",
    "for f in zip(fruit_rating_list, favorite_fruits):\n",
    "    print(f)"
   ]
  },
  {
   "cell_type": "markdown",
   "metadata": {},
   "source": [
    "**<center>Well we have a problem here! Everyone's favorite fruit the mango is missing!!!!!!!!!!! We cannot have that! To remedy the situation we can import the zip_longest from itertools and save it into a variable. In this case the variable will be fl:</center>**"
   ]
  },
  {
   "cell_type": "code",
   "execution_count": 7,
   "metadata": {},
   "outputs": [
    {
     "data": {
      "text/plain": [
       "{(1, 'apple'), (2, 'banana'), (3, 'cherry'), (None, 'mango')}"
      ]
     },
     "execution_count": 7,
     "metadata": {},
     "output_type": "execute_result"
    }
   ],
   "source": [
    "from itertools import zip_longest as fl\n",
    "set (fl(fruit_rating_list, favorite_fruits))\n"
   ]
  },
  {
   "cell_type": "markdown",
   "metadata": {},
   "source": [
    "**<center>We now have our delicious mango although a numerical rating isn't associated with it! </center>**"
   ]
  },
  {
   "cell_type": "markdown",
   "metadata": {},
   "source": [
    "**<center><u>How to Un Zip Values:</u></center>**\n",
    "=================="
   ]
  },
  {
   "cell_type": "markdown",
   "metadata": {},
   "source": [
    "**Lastly, let's discuss how to unzip values. Let's modify Jane's fruit set. A numerical value has now been assigned to mango. Also the fruit rating list is now stored in a variable named fruit_rating_list_2 and the fruits are stored in the variable favorite_fruits_2. Next, let's zip Jane's fruit list and store it in the variable f.**"
   ]
  },
  {
   "cell_type": "code",
   "execution_count": 8,
   "metadata": {},
   "outputs": [],
   "source": [
    "fruit_rating_list_2 = [1,2,3,4]\n",
    "favorite_fruits_2 = ['apple','banana','cherry', 'mango']\n",
    "\n",
    "\n",
    "f=zip(fruit_rating_list_2, favorite_fruits_2)"
   ]
  },
  {
   "cell_type": "markdown",
   "metadata": {},
   "source": [
    "**Next we will unzip the variable f by using the star before the variable in zip function. We are saving unzipped contents to the variable a and b**"
   ]
  },
  {
   "cell_type": "code",
   "execution_count": 9,
   "metadata": {},
   "outputs": [],
   "source": [
    "a,b=zip(*f)"
   ]
  },
  {
   "cell_type": "markdown",
   "metadata": {},
   "source": [
    "**Here we will print the unzipped contents!**"
   ]
  },
  {
   "cell_type": "code",
   "execution_count": 10,
   "metadata": {},
   "outputs": [
    {
     "data": {
      "text/plain": [
       "((1, 2, 3, 4), ('apple', 'banana', 'cherry', 'mango'))"
      ]
     },
     "execution_count": 10,
     "metadata": {},
     "output_type": "execute_result"
    }
   ],
   "source": [
    "a,b"
   ]
  },
  {
   "cell_type": "markdown",
   "metadata": {},
   "source": [
    "**<center>Thank you for reading! Gitprincesskerry is signing off! Have a good day!</center>**\n",
    "========================================================"
   ]
  }
 ],
 "metadata": {
  "kernelspec": {
   "display_name": "Python 3",
   "language": "python",
   "name": "python3"
  },
  "language_info": {
   "codemirror_mode": {
    "name": "ipython",
    "version": 3
   },
   "file_extension": ".py",
   "mimetype": "text/x-python",
   "name": "python",
   "nbconvert_exporter": "python",
   "pygments_lexer": "ipython3",
   "version": "3.7.6"
  }
 },
 "nbformat": 4,
 "nbformat_minor": 4
}
