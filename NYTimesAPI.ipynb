{
  "nbformat": 4,
  "nbformat_minor": 0,
  "metadata": {
    "colab": {
      "name": "NYTimesAPI.ipynb",
      "provenance": [],
      "collapsed_sections": [],
      "authorship_tag": "ABX9TyP/PF0t7CYv/+LXjqJt8e1E",
      "include_colab_link": true
    },
    "kernelspec": {
      "name": "python3",
      "display_name": "Python 3"
    },
    "language_info": {
      "name": "python"
    }
  },
  "cells": [
    {
      "cell_type": "markdown",
      "metadata": {
        "id": "view-in-github",
        "colab_type": "text"
      },
      "source": [
        "<a href=\"https://colab.research.google.com/github/Gitprincesskerry/IS362/blob/main/NYTimesAPI.ipynb\" target=\"_parent\"><img src=\"https://colab.research.google.com/assets/colab-badge.svg\" alt=\"Open In Colab\"/></a>"
      ]
    },
    {
      "cell_type": "markdown",
      "metadata": {
        "id": "hnHluXjMBC_4"
      },
      "source": [
        "**<u><center><b>NY Times API's</center></b></u>**\n",
        "===========================================\n",
        "\n",
        "**<u><b>Task:</b></u>**\n",
        "===========================================\n",
        "\n",
        "The New York Times web site provides a rich set of APIs, as described here: http://developer.nytimes.com/docs You’ll need to start by signing up for an API key.\n",
        "<br>\n",
        "<br>\n",
        "\n",
        "Your task is to choose one of the New York Times APIs, construct an interface in Python to read in the JSON data, and transform it into a pandas DataFrame.\n",
        "\n"
      ]
    },
    {
      "cell_type": "markdown",
      "metadata": {
        "id": "HzUKU5IuBWXN"
      },
      "source": [
        "\n",
        "To execute the aformentioned task we must import the urllib, json, and pandas libraries. Let's breakdown the uses of each library: <br>\n",
        "- Urllib will be utilized to open the direct link to the New York times Top Stories Technology Section via an API and read the data.<br>\n",
        "- Json will be utilized to convert the data on the webpage to json.<br>\n",
        "- Pandas will be used to convert the json data to a dataframe."
      ]
    },
    {
      "cell_type": "code",
      "metadata": {
        "id": "dxKSaZ3LBBuI"
      },
      "source": [
        "import urllib\n",
        "import json\n",
        "import pandas as pd"
      ],
      "execution_count": null,
      "outputs": []
    },
    {
      "cell_type": "markdown",
      "metadata": {
        "id": "ASnOJPWxBFXm"
      },
      "source": [
        "Here we will save the link to the page we're analyzing in a variable named nyt_url_api:"
      ]
    },
    {
      "cell_type": "code",
      "metadata": {
        "id": "QR0GyoA3BB6l"
      },
      "source": [
        "nyt_url_api = 'https://api.nytimes.com/svc/topstories/v2/technology.json?api-key=mV7enKtAZbGbWbUt4FVThr8NFSqfi6FZ'"
      ],
      "execution_count": null,
      "outputs": []
    },
    {
      "cell_type": "markdown",
      "metadata": {
        "id": "KE4lXTmKBHRD"
      },
      "source": [
        "Next, let's utilize the following code to open and read the data on the New York Times Top Stories Technology Section:"
      ]
    },
    {
      "cell_type": "code",
      "metadata": {
        "id": "1XOlmW9oA5Lh"
      },
      "source": [
        "data = urllib.request.urlopen(nyt_url_api).read()\n",
        "print(data)"
      ],
      "execution_count": null,
      "outputs": []
    },
    {
      "cell_type": "markdown",
      "metadata": {
        "id": "sheFdjh3BIo4"
      },
      "source": [
        "We will now convert the data to Json and view the information with the following code:"
      ]
    },
    {
      "cell_type": "code",
      "metadata": {
        "id": "FzZsciJFA5PJ"
      },
      "source": [
        "convert_to_json = json.loads(data)\n",
        "#print(convert_to_json)"
      ],
      "execution_count": null,
      "outputs": []
    },
    {
      "cell_type": "markdown",
      "metadata": {
        "id": "jkwfQAijBKbT"
      },
      "source": [
        "Lastly, let's create a dataframe for the information in question and view the dataframe:\n"
      ]
    },
    {
      "cell_type": "code",
      "metadata": {
        "id": "yj4IDWkyA5TG"
      },
      "source": [
        "df = pd.DataFrame(data=convert_to_json['results'])\n",
        "df"
      ],
      "execution_count": null,
      "outputs": []
    }
  ]
}