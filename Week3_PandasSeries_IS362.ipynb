{
 "cells": [
  {
   "cell_type": "markdown",
   "metadata": {},
   "source": [
    "# <center> My Bike Log From New York to Key West Florida </center>"
   ]
  },
  {
   "cell_type": "markdown",
   "metadata": {},
   "source": [
    "Task: Suppose you have ridden a bicycle from New York City to Key West, Florida.  Your bicycle odometer shows the total miles, which you have dutifully logged at the end of each day with paper and pencil.  Your first two entries might be 55 and 120, indicating that you rode your bike 55 miles on day 1 and 65 miles on day 2.  Your task is to create a pandas Series object that holds the cumulative miles at the end of each day, then use your Python skills to show the total miles that you rode each day.  Consider how you should best present this information in a Jupyter notebook.  You should save your Jupyter Notebook to your GitHub repository, and provide a link in your assignment submission."
   ]
  },
  {
   "cell_type": "markdown",
   "metadata": {},
   "source": [
    "<center><b> First, we must import the pandas library and numpy to create a series.</b></center>"
   ]
  },
  {
   "cell_type": "code",
   "execution_count": 1,
   "metadata": {},
   "outputs": [],
   "source": [
    "import pandas as pd\n",
    "import numpy as ba"
   ]
  },
  {
   "cell_type": "markdown",
   "metadata": {},
   "source": [
    "<center><b> Next, the dataset of the miles rode per day will stored as a series in conseutive order in a variable named combined_kerry_day_miles.</b></center>"
   ]
  },
  {
   "cell_type": "code",
   "execution_count": 2,
   "metadata": {},
   "outputs": [],
   "source": [
    "combined_kerry_day_miles = pd.Series([55,65,50,62,60,80,70,78,76,75,70,75,77,65,60,60,50,65,62,55,65,50,62,54])"
   ]
  },
  {
   "cell_type": "markdown",
   "metadata": {},
   "source": [
    "<center><b> Next, the code below will iteriate on each item stored in the series saved in the variable combined_kerry_day_miles.</b></center>\n",
    "\n",
    "<center><b>The output creates a format string which depicts the day and the associated miles per day.\"</b></center>"
   ]
  },
  {
   "cell_type": "code",
   "execution_count": 4,
   "metadata": {},
   "outputs": [
    {
     "name": "stdout",
     "output_type": "stream",
     "text": [
      "I rode 55 miles on Day 1 on my journey from New York to Key West Florida\n",
      "I rode 65 miles on Day 2 on my journey from New York to Key West Florida\n",
      "I rode 50 miles on Day 3 on my journey from New York to Key West Florida\n",
      "I rode 62 miles on Day 4 on my journey from New York to Key West Florida\n",
      "I rode 60 miles on Day 5 on my journey from New York to Key West Florida\n",
      "I rode 80 miles on Day 6 on my journey from New York to Key West Florida\n",
      "I rode 70 miles on Day 7 on my journey from New York to Key West Florida\n",
      "I rode 78 miles on Day 8 on my journey from New York to Key West Florida\n",
      "I rode 76 miles on Day 9 on my journey from New York to Key West Florida\n",
      "I rode 75 miles on Day 10 on my journey from New York to Key West Florida\n",
      "I rode 70 miles on Day 11 on my journey from New York to Key West Florida\n",
      "I rode 75 miles on Day 12 on my journey from New York to Key West Florida\n",
      "I rode 77 miles on Day 13 on my journey from New York to Key West Florida\n",
      "I rode 65 miles on Day 14 on my journey from New York to Key West Florida\n",
      "I rode 60 miles on Day 15 on my journey from New York to Key West Florida\n",
      "I rode 60 miles on Day 16 on my journey from New York to Key West Florida\n",
      "I rode 50 miles on Day 17 on my journey from New York to Key West Florida\n",
      "I rode 65 miles on Day 18 on my journey from New York to Key West Florida\n",
      "I rode 62 miles on Day 19 on my journey from New York to Key West Florida\n",
      "I rode 55 miles on Day 20 on my journey from New York to Key West Florida\n",
      "I rode 65 miles on Day 21 on my journey from New York to Key West Florida\n",
      "I rode 50 miles on Day 22 on my journey from New York to Key West Florida\n",
      "I rode 62 miles on Day 23 on my journey from New York to Key West Florida\n",
      "I rode 54 miles on Day 24 on my journey from New York to Key West Florida\n"
     ]
    }
   ],
   "source": [
    "counter = 0\n",
    "for x in combined_kerry_day_miles:\n",
    "    counter +=1\n",
    "    print('I rode', x, 'miles on Day', counter, 'on my journey from New York to Key West Florida')"
   ]
  }
 ],
 "metadata": {
  "kernelspec": {
   "display_name": "Python 3",
   "language": "python",
   "name": "python3"
  },
  "language_info": {
   "codemirror_mode": {
    "name": "ipython",
    "version": 3
   },
   "file_extension": ".py",
   "mimetype": "text/x-python",
   "name": "python",
   "nbconvert_exporter": "python",
   "pygments_lexer": "ipython3",
   "version": "3.7.6"
  }
 },
 "nbformat": 4,
 "nbformat_minor": 4
}
